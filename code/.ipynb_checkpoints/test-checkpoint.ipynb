{
 "cells": [
  {
   "cell_type": "code",
   "execution_count": 9,
   "metadata": {},
   "outputs": [
    {
     "data": {
      "image/png": "[encoded data removed]",
      "text/plain": [
       "<PIL.Image.Image image mode=L size=100x100 at 0xB523F28>"
      ]
     },
     "execution_count": 9,
     "metadata": {},
     "output_type": "execute_result"
    }
   ],
   "source": [
    "import numpy as np\n",
    "from PIL import Image\n",
    "from sklearn import preprocessing\n",
    "\n",
    "'''\n",
    "先將影像切成正方形的，再進行resize\n",
    "'''\n",
    "\n",
    "\n",
    "image_paths = ['C:/Users/PhycauseStudio/Documents/GitHub/TW_typhoon/data/train/high/Satellite_IR1_LCC.199607290700.jpg']\n",
    "\n",
    "new_width = 100\n",
    "new_height = 100\n",
    "tiny_images_ori = []\n",
    "\n",
    "for img_file in image_paths:\n",
    "    img = Image.open(img_file)\n",
    "    #取得圖片的大小\n",
    "    width, height = img.size\n",
    "    \n",
    "    #計算切割的大小(以最小損失切割成正方形)\n",
    "    new_length = 300\n",
    "    \n",
    "    #計算要切的範圍(以圖片中心為切割中心)\n",
    "    left = (width - new_length)/2 + 50\n",
    "    top = (height - new_length)/2 + 50\n",
    "    right = (width + new_length)/2 + 50\n",
    "    bottom = (height + new_length)/2 + 50\n",
    "    img_cropped = img.crop((left, top, right, bottom))\n",
    "    \n",
    "    #resize圖片大小\n",
    "    img_resized = img_cropped.resize((new_width, new_height), Image.BILINEAR)\n",
    "#     #將調整過後的圖片轉成float32存入tiny_images\n",
    "#     tiny_images_ori.append(np.asarray(img_resized,dtype='float32').flatten().tolist())\n",
    "    \n",
    "# tiny_images = np.array(tiny_images_ori)\n",
    "# tiny_images_T = np.transpose(tiny_images)\n",
    "\n",
    "# for idx, feature in enumerate(tiny_images_T):\n",
    "#     feature_scaled = preprocessing.scale(feature,with_std = False)\n",
    "#     feature_scaled = feature_scaled/np.max(abs(feature_scaled))\n",
    "#     tiny_images[:,idx] = feature_scaled\n",
    "img_resized "
   ]
  },
  {
   "cell_type": "code",
   "execution_count": 93,
   "metadata": {},
   "outputs": [
    {
     "name": "stdout",
     "output_type": "stream",
     "text": [
      "[[1, 2]]\n"
     ]
    }
   ],
   "source": [
    "tiny_images = []\n",
    "\n",
    "tiny_images.append([1,2])\n",
    "print(tiny_images)"
   ]
  },
  {
   "cell_type": "code",
   "execution_count": 142,
   "metadata": {},
   "outputs": [
    {
     "name": "stdout",
     "output_type": "stream",
     "text": [
      "[[-0.25       -0.8        -0.8        -0.90909091]\n",
      " [ 1.         -0.2        -0.2        -0.09090909]\n",
      " [-0.75        1.          1.          1.        ]]\n"
     ]
    }
   ],
   "source": [
    "t = np.array([[1.0,2.0,3.0,3.5],[3.5, 5.0, 6.0, 8.0],[0,11.0,12.0,14.0]])\n",
    "t_T = np.transpose(t)\n",
    "\n",
    "for idx, feature in enumerate(t_T):\n",
    "    feature_scaled = preprocessing.scale(feature,with_std = False)\n",
    "    feature_scaled = feature_scaled/np.max(abs(feature_scaled))\n",
    "    t[:,idx] = feature_scaled\n",
    "print(t)"
   ]
  },
  {
   "cell_type": "code",
   "execution_count": 9,
   "metadata": {},
   "outputs": [
    {
     "data": {
      "text/plain": [
       "(400, 128)"
      ]
     },
     "execution_count": 9,
     "metadata": {},
     "output_type": "execute_result"
    }
   ],
   "source": [
    "import pickle\n",
    "import numpy as np\n",
    "\n",
    "with open(\"vocab.pkl\",'rb') as file:\n",
    "    vocab = pickle.load(file)\n",
    "vocab = np.array(vocab)\n",
    "np.shape(vocab)"
   ]
  }
 ],
 "metadata": {
  "kernelspec": {
   "display_name": "Python 3",
   "language": "python",
   "name": "python3"
  },
  "language_info": {
   "codemirror_mode": {
    "name": "ipython",
    "version": 3
   },
   "file_extension": ".py",
   "mimetype": "text/x-python",
   "name": "python",
   "nbconvert_exporter": "python",
   "pygments_lexer": "ipython3",
   "version": "3.6.3"
  }
 },
 "nbformat": 4,
 "nbformat_minor": 2
}
